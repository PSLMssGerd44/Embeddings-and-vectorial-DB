{
  "cells": [
    {
      "cell_type": "markdown",
      "source": [
        "# Cálculo de distancias de vectores con NumPy"
      ],
      "metadata": {
        "id": "cWRfYFSJPWOY"
      }
    },
    {
      "cell_type": "markdown",
      "source": [
        "## Import & vector load"
      ],
      "metadata": {
        "id": "60-iW1o6PM2D"
      }
    },
    {
      "cell_type": "code",
      "execution_count": null,
      "outputs": [],
      "source": [
        "import numpy as np"
      ],
      "metadata": {
        "pycharm": {
          "name": "#%%\n"
        },
        "id": "I0BwH8n4O0lV"
      }
    },
    {
      "cell_type": "code",
      "execution_count": 2,
      "outputs": [],
      "source": [
        "gato = np.array([0.9, 0.8, 0.2])\n",
        "perro = np.array([0.8, 0.85, 0.15])\n",
        "computadora = np.array([0.1, 0.3, 0.9])"
      ],
      "metadata": {
        "pycharm": {
          "name": "#%%\n"
        },
        "id": "E3rSz1hGO0lW"
      }
    },
    {
      "cell_type": "markdown",
      "source": [
        "## Dot product"
      ],
      "metadata": {
        "collapsed": false,
        "pycharm": {
          "name": "#%% md\n"
        },
        "id": "rYhTz4q8O0lX"
      }
    },
    {
      "cell_type": "code",
      "execution_count": 3,
      "outputs": [
        {
          "output_type": "stream",
          "name": "stdout",
          "text": [
            "Producto punto gato-perro:  1.4300000000000002\n",
            "Producto punto gato-computadora:  0.51\n"
          ]
        }
      ],
      "source": [
        "dot_product_gato_perro = np.dot(gato,perro)\n",
        "dot_product_gato_computadora = np.dot(gato, computadora)\n",
        "\n",
        "print('Producto punto gato-perro: ', dot_product_gato_perro )\n",
        "print('Producto punto gato-computadora: ',dot_product_gato_computadora )\n"
      ],
      "metadata": {
        "pycharm": {
          "name": "#%%\n"
        },
        "id": "QVWTk69SO0lY",
        "colab": {
          "base_uri": "https://localhost:8080/"
        },
        "outputId": "5d4fefc8-5db7-4a5b-8d17-c1e1ccaa082b"
      }
    },
    {
      "cell_type": "markdown",
      "source": [
        "## Euclidean distance"
      ],
      "metadata": {
        "collapsed": false,
        "pycharm": {
          "name": "#%% md\n"
        },
        "id": "ozM8DAc3O0lZ"
      }
    },
    {
      "cell_type": "code",
      "execution_count": 8,
      "outputs": [
        {
          "output_type": "stream",
          "name": "stdout",
          "text": [
            "0.12247448713915887\n"
          ]
        }
      ],
      "source": [
        "euclidean_distance = np.linalg.norm(gato-perro) #the rest in order to mnormalize\n",
        "\n",
        "print(euclidean_distance)"
      ],
      "metadata": {
        "pycharm": {
          "name": "#%%\n"
        },
        "id": "YpHLRl4xO0lZ",
        "colab": {
          "base_uri": "https://localhost:8080/"
        },
        "outputId": "c73b8dda-2ccc-4dfb-f2df-b347b4cd06d5"
      }
    },
    {
      "cell_type": "code",
      "source": [
        "euclidean_distance = np.linalg.norm(gato-computadora)\n",
        "\n",
        "print(euclidean_distance)"
      ],
      "metadata": {
        "colab": {
          "base_uri": "https://localhost:8080/"
        },
        "id": "Tt2ttkF1RHww",
        "outputId": "e2ac128d-1dff-41fd-bf3b-d3105c755146"
      },
      "execution_count": 5,
      "outputs": [
        {
          "output_type": "stream",
          "name": "stdout",
          "text": [
            "1.174734012447073\n"
          ]
        }
      ]
    },
    {
      "cell_type": "markdown",
      "source": [
        "## Cosine similarity"
      ],
      "metadata": {
        "collapsed": false,
        "pycharm": {
          "name": "#%% md\n"
        },
        "id": "PUCbNs9cO0la"
      }
    },
    {
      "cell_type": "code",
      "execution_count": 6,
      "outputs": [
        {
          "output_type": "stream",
          "name": "stdout",
          "text": [
            "0.9954467122628464\n"
          ]
        }
      ],
      "source": [
        "dot_product = np.dot(gato, perro)\n",
        "\n",
        "norm_gato = np.linalg.norm(gato)\n",
        "norm_perro = np.linalg.norm(perro)\n",
        "\n",
        "cosine_similarity = dot_product / (norm_gato * norm_perro)\n",
        "print(cosine_similarity)"
      ],
      "metadata": {
        "pycharm": {
          "name": "#%%\n"
        },
        "id": "QuWfDgyMO0la",
        "colab": {
          "base_uri": "https://localhost:8080/"
        },
        "outputId": "1e03cd34-fb04-4e7a-887d-6dd2f9bf37f2"
      }
    },
    {
      "cell_type": "code",
      "source": [
        "1-cosine_similarity"
      ],
      "metadata": {
        "colab": {
          "base_uri": "https://localhost:8080/"
        },
        "id": "F-g-z856RbAW",
        "outputId": "78fc4c52-5fe3-47cc-aece-a7f6797e5057"
      },
      "execution_count": 7,
      "outputs": [
        {
          "output_type": "execute_result",
          "data": {
            "text/plain": [
              "0.004553287737153577"
            ]
          },
          "metadata": {},
          "execution_count": 7
        }
      ]
    },
    {
      "cell_type": "code",
      "source": [],
      "metadata": {
        "id": "Bw210CA9zfvq"
      },
      "execution_count": null,
      "outputs": []
    },
    {
      "cell_type": "markdown",
      "source": [
        "#Challenge:\n",
        "\n",
        "Calculate the distance between the following:\n",
        "- king and man\n",
        "- man and boy\n",
        "- queen and woman\n",
        "- woman and girl\n",
        "- king and queen\n",
        "- man and woman\n",
        "\n",
        "\n",
        "\n",
        "\n",
        "\n",
        "##words in vectors:\n",
        "king = np.array([1,7,8])\n",
        "\n",
        "man = np.array([1,7,0])\n",
        "\n",
        "woman = np.array([9,7,0])\n",
        "\n",
        "queen= np.array([9,7,8])\n",
        "\n",
        "boy = np.array([1,2,0])\n",
        "\n",
        "girl = np.array([9,2,0])"
      ],
      "metadata": {
        "id": "7OG__Zy_1amq"
      }
    },
    {
      "cell_type": "code",
      "source": [
        "king = np.array([1,7,8])\n",
        "man = np.array([1,7,0])\n",
        "woman = np.array([9,7,0])\n",
        "queen= np.array([9,7,8])\n",
        "boy = np.array([1,2,0])\n",
        "girl = np.array([9,2,0])"
      ],
      "metadata": {
        "id": "_Daf1LNB2Ax3"
      },
      "execution_count": 9,
      "outputs": []
    },
    {
      "cell_type": "markdown",
      "source": [
        "## Dot product"
      ],
      "metadata": {
        "id": "94axZw1O2Hht"
      }
    },
    {
      "cell_type": "code",
      "source": [
        "dot_product_king_man = np.dot(king,man)\n",
        "dot_product_king_queen = np.dot(king, queen)\n",
        "dot_product_man_boy = np.dot(man,boy)\n",
        "dot_product_man_woman = np.dot(man, woman)\n",
        "dot_product_queen_woman = np.dot(queen, woman)\n",
        "dot_product_woman_girl = np.dot(woman, girl)\n",
        "\n",
        "print('Dot product king-man: ', dot_product_king_man )\n",
        "print('Dot product king-queen: ', dot_product_king_queen )\n",
        "print('Dot product man-boy: ', dot_product_man_boy )\n",
        "print('Dot product man woman: ', dot_product_man_woman )\n",
        "print('Dot product queen-woman: ', dot_product_queen_woman )\n",
        "print('Dot product woman-girl: ', dot_product_woman_girl )\n"
      ],
      "metadata": {
        "colab": {
          "base_uri": "https://localhost:8080/"
        },
        "id": "XxmdJeeV2J5A",
        "outputId": "8f64ca3f-b692-4298-f86c-59b6bd8d9a72"
      },
      "execution_count": 10,
      "outputs": [
        {
          "output_type": "stream",
          "name": "stdout",
          "text": [
            "Dot product king-man:  50\n",
            "Dot product king-queen:  122\n",
            "Dot product man-boy:  15\n",
            "Dot product man woman:  58\n",
            "Dot product queen-woman:  130\n",
            "Dot product woman-girl:  95\n"
          ]
        }
      ]
    },
    {
      "cell_type": "markdown",
      "source": [
        "##Euclidian distance"
      ],
      "metadata": {
        "id": "ebrOzTAg3S90"
      }
    },
    {
      "cell_type": "code",
      "source": [
        "euclidean_distance = np.linalg.norm(king-man)\n",
        "print(euclidean_distance)"
      ],
      "metadata": {
        "colab": {
          "base_uri": "https://localhost:8080/"
        },
        "id": "E_XwIT6N3Wid",
        "outputId": "c3da5460-75eb-410c-99b1-0d3e621a530e"
      },
      "execution_count": 11,
      "outputs": [
        {
          "output_type": "stream",
          "name": "stdout",
          "text": [
            "8.0\n"
          ]
        }
      ]
    },
    {
      "cell_type": "code",
      "source": [
        "euclidean_distance = np.linalg.norm(king-queen)\n",
        "\n",
        "print(euclidean_distance)"
      ],
      "metadata": {
        "colab": {
          "base_uri": "https://localhost:8080/"
        },
        "id": "eXwMt_Kd3Y0S",
        "outputId": "1a26c4db-3815-4487-ad67-307b3105b112"
      },
      "execution_count": 12,
      "outputs": [
        {
          "output_type": "stream",
          "name": "stdout",
          "text": [
            "8.0\n"
          ]
        }
      ]
    },
    {
      "cell_type": "code",
      "source": [
        "euclidean_distance = np.linalg.norm(man-boy)\n",
        "\n",
        "print(euclidean_distance)"
      ],
      "metadata": {
        "colab": {
          "base_uri": "https://localhost:8080/"
        },
        "id": "fjtw7Eoo3aPP",
        "outputId": "106d6ccb-8782-4bcc-cc66-ef66063c629f"
      },
      "execution_count": 13,
      "outputs": [
        {
          "output_type": "stream",
          "name": "stdout",
          "text": [
            "5.0\n"
          ]
        }
      ]
    },
    {
      "cell_type": "code",
      "source": [
        "euclidean_distance = np.linalg.norm(man-woman)\n",
        "\n",
        "print(euclidean_distance)"
      ],
      "metadata": {
        "colab": {
          "base_uri": "https://localhost:8080/"
        },
        "id": "8VQXcpQ53Z_A",
        "outputId": "4208dc57-6e69-48db-8c67-bd11c936adb9"
      },
      "execution_count": 14,
      "outputs": [
        {
          "output_type": "stream",
          "name": "stdout",
          "text": [
            "8.0\n"
          ]
        }
      ]
    },
    {
      "cell_type": "code",
      "source": [
        "euclidean_distance = np.linalg.norm(queen-woman)\n",
        "\n",
        "print(euclidean_distance)"
      ],
      "metadata": {
        "colab": {
          "base_uri": "https://localhost:8080/"
        },
        "id": "yV4EVlNc3Zxe",
        "outputId": "efd8e871-6864-405d-c1dd-14d1c6c8ba48"
      },
      "execution_count": 15,
      "outputs": [
        {
          "output_type": "stream",
          "name": "stdout",
          "text": [
            "8.0\n"
          ]
        }
      ]
    },
    {
      "cell_type": "code",
      "source": [
        "euclidean_distance = np.linalg.norm(woman-girl)\n",
        "\n",
        "print(euclidean_distance)"
      ],
      "metadata": {
        "colab": {
          "base_uri": "https://localhost:8080/"
        },
        "id": "5hB3vM273ZZg",
        "outputId": "20679c63-3260-4c75-bbfd-8e8624643c8e"
      },
      "execution_count": 16,
      "outputs": [
        {
          "output_type": "stream",
          "name": "stdout",
          "text": [
            "5.0\n"
          ]
        }
      ]
    },
    {
      "cell_type": "code",
      "source": [],
      "metadata": {
        "id": "4_Ux9qYT1b26"
      },
      "execution_count": null,
      "outputs": []
    }
  ],
  "metadata": {
    "kernelspec": {
      "display_name": "Python 3",
      "language": "python",
      "name": "python3"
    },
    "language_info": {
      "codemirror_mode": {
        "name": "ipython",
        "version": 2
      },
      "file_extension": ".py",
      "mimetype": "text/x-python",
      "name": "python",
      "nbconvert_exporter": "python",
      "pygments_lexer": "ipython2",
      "version": "2.7.6"
    },
    "colab": {
      "provenance": []
    }
  },
  "nbformat": 4,
  "nbformat_minor": 0
}